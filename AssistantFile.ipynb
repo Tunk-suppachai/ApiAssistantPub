{
 "cells": [
  {
   "cell_type": "markdown",
   "metadata": {},
   "source": [
    "# OpenAI Assistant with Files \n",
    "(RAG : Retrieval Augment Generation)\n"
   ]
  },
  {
   "cell_type": "markdown",
   "metadata": {},
   "source": [
    "This notebook demonstrate the ability of AI retrieve the data from the file."
   ]
  },
  {
   "cell_type": "markdown",
   "metadata": {},
   "source": [
    "### Setup"
   ]
  },
  {
   "cell_type": "code",
   "execution_count": 1,
   "metadata": {},
   "outputs": [],
   "source": [
    "from openai import OpenAI\n",
    "from dotenv import find_dotenv, load_dotenv"
   ]
  },
  {
   "cell_type": "code",
   "execution_count": 2,
   "metadata": {},
   "outputs": [],
   "source": [
    "load_dotenv()\n",
    "client = OpenAI()  "
   ]
  },
  {
   "cell_type": "markdown",
   "metadata": {},
   "source": [
    "### Create the Assistant"
   ]
  },
  {
   "cell_type": "code",
   "execution_count": 4,
   "metadata": {},
   "outputs": [],
   "source": [
    "# helper function to get completions from OpenAI\n",
    "def get_completion(prompt, model=\"gpt-3.5-turbo\"):\n",
    "    messages = [{\"role\": \"user\", \"content\": prompt}]\n",
    "    response = client.chat.completions.create(\n",
    "        model=model,\n",
    "        messages=messages,\n",
    "        temperature=0,\n",
    "        max_tokens= 2000\n",
    "    )\n",
    "    return response.choices[0].message.content"
   ]
  },
  {
   "cell_type": "code",
   "execution_count": 7,
   "metadata": {},
   "outputs": [
    {
     "name": "stdout",
     "output_type": "stream",
     "text": [
      "asst_y5C0vVmKLQFYOTmbpHEcj4om\n"
     ]
    }
   ],
   "source": [
    "## Create Assistant\n",
    "assistant = client.beta.assistants.create(\n",
    "  name=\"Paper Review Assistant\",\n",
    "  instructions=\"You are Academic expert. Use you knowledge base to answer questions about the paper.\",\n",
    "  model=\"gpt-3.5-turbo\",\n",
    "  tools=[{\"type\": \"file_search\"}],\n",
    ")\n",
    "assistant_id = assistant.id\n",
    "print(assistant_id)"
   ]
  },
  {
   "cell_type": "code",
   "execution_count": 8,
   "metadata": {},
   "outputs": [],
   "source": [
    "# assistant_id = 'asst_y5C0vVmKLQFYOTmbpHEcj4om'"
   ]
  },
  {
   "cell_type": "markdown",
   "metadata": {},
   "source": [
    "### Create the Vector Store"
   ]
  },
  {
   "cell_type": "code",
   "execution_count": null,
   "metadata": {},
   "outputs": [],
   "source": [
    "# # Create a vector store called \"Paper Data\"\n",
    "# vector_store = client.beta.vector_stores.create(name=\"Paper Data\")\n",
    " \n",
    "# # Ready the files for upload to OpenAI \n",
    "# file_paths = [\"/Users/taweesaksamanchuen/Dev/ApiAssistant/book/eyeThesis.pdf\", \"/Users/taweesaksamanchuen/Dev/ApiAssistant/book/fonThesis.pdf\"]\n",
    "# file_streams = [open(path, \"rb\") for path in file_paths]\n",
    " \n",
    "# # Use the upload and poll SDK helper to upload the files, add them to the vector store,\n",
    "# # and poll the status of the file batch for completion.\n",
    "# file_batch = client.beta.vector_stores.file_batches.upload_and_poll(\n",
    "#   vector_store_id=vector_store.id, files=file_streams\n",
    "# )\n",
    " \n",
    "# # You can print the status and the file counts of the batch to see the result of this operation. \n",
    "# print(file_batch.status)\n",
    "# print(file_batch.file_counts)"
   ]
  },
  {
   "cell_type": "code",
   "execution_count": 9,
   "metadata": {},
   "outputs": [],
   "source": [
    "vector_store_id = 'vs_xjYz5Ah1kDcSeWqip2duIxSw'"
   ]
  },
  {
   "cell_type": "code",
   "execution_count": 10,
   "metadata": {},
   "outputs": [],
   "source": [
    "# Attach the vector store to the assistant\n",
    "assistant = client.beta.assistants.update(\n",
    "  assistant_id=assistant_id,\n",
    "  tool_resources={\"file_search\": {\"vector_store_ids\": [vector_store_id]}},\n",
    ")\n"
   ]
  },
  {
   "cell_type": "code",
   "execution_count": 15,
   "metadata": {},
   "outputs": [],
   "source": [
    "# thesisName = \"eyeThesis\"\n",
    "thesisName = \"fonThesis\""
   ]
  },
  {
   "cell_type": "markdown",
   "metadata": {},
   "source": [
    "### Create Thread"
   ]
  },
  {
   "cell_type": "code",
   "execution_count": 11,
   "metadata": {},
   "outputs": [
    {
     "name": "stdout",
     "output_type": "stream",
     "text": [
      "None\n",
      "thread_WQMEiDboYVbMSEqScSX7sjMy\n"
     ]
    }
   ],
   "source": [
    "# Upload the user provided file to OpenAI\n",
    "# message_file = client.files.create(\n",
    "#   file=open(\"edgar/aapl-10k.pdf\", \"rb\"), purpose=\"assistants\"\n",
    "# )\n",
    " \n",
    "# Create a thread and attach the file to the message\n",
    "thread = client.beta.threads.create(\n",
    "  messages=[\n",
    "    {\n",
    "      \"role\": \"user\",\n",
    "      \"content\": \"Study the PDF file and summarize the key points.\",\n",
    "      # Attach the new file to the message.\n",
    "    #   \"attachments\": [\n",
    "    #     { \"file_id\": message_file.id, \"tools\": [{\"type\": \"file_search\"}] }\n",
    "    #  ],\n",
    "    }\n",
    "  ]\n",
    ")\n",
    " \n",
    "# The thread now has a vector store with that file in its tool resources.\n",
    "print(thread.tool_resources.file_search)\n",
    "thread_id = thread.id\n",
    "print(thread_id)"
   ]
  },
  {
   "cell_type": "code",
   "execution_count": null,
   "metadata": {},
   "outputs": [],
   "source": [
    "# #current thread id \n",
    "# thread_id = 'thread_pUGOPAakwhHWwgKwF9wztzl8'\n",
    "# #delete thread\n",
    "# client.beta.threads.delete(thread_id)\n"
   ]
  },
  {
   "cell_type": "markdown",
   "metadata": {},
   "source": [
    "### helper function"
   ]
  },
  {
   "cell_type": "code",
   "execution_count": 12,
   "metadata": {},
   "outputs": [],
   "source": [
    "from typing_extensions import override\n",
    "from openai import AssistantEventHandler\n",
    " \n",
    "class EventHandler(AssistantEventHandler):\n",
    "    @override\n",
    "    def on_text_created(self, text) -> None:\n",
    "        print(f\"\\nassistant > \", end=\"\", flush=True)\n",
    "\n",
    "    @override\n",
    "    def on_tool_call_created(self, tool_call):\n",
    "        print(f\"\\nassistant > {tool_call.type}\\n\", flush=True)\n",
    "\n",
    "    @override\n",
    "    def on_message_done(self, message) -> None:\n",
    "        # print a citation to the file searched\n",
    "        message_content = message.content[0].text\n",
    "        annotations = message_content.annotations\n",
    "        citations = []\n",
    "        for index, annotation in enumerate(annotations):\n",
    "            message_content.value = message_content.value.replace(\n",
    "                annotation.text, f\"[{index}]\"\n",
    "            )\n",
    "            if file_citation := getattr(annotation, \"file_citation\", None):\n",
    "                cited_file = client.files.retrieve(file_citation.file_id)\n",
    "                citations.append(f\"[{index}] {cited_file.filename}\")\n",
    "\n",
    "        print(message_content.value)\n",
    "        print(\"\\n\".join(citations))\n",
    "\n",
    "\n"
   ]
  },
  {
   "cell_type": "code",
   "execution_count": 13,
   "metadata": {},
   "outputs": [],
   "source": [
    "def ask_assistant(instuction_message, user_message):\n",
    "    message = client.beta.threads.messages.create(\n",
    "    thread_id=thread_id,\n",
    "    role=\"user\",\n",
    "    content= user_message,\n",
    "    )\n",
    "    with client.beta.threads.runs.stream(\n",
    "        thread_id = thread_id,\n",
    "        assistant_id = assistant_id,\n",
    "        instructions= instuction_message,\n",
    "        event_handler=EventHandler(),\n",
    "    ) as stream:\n",
    "        stream.until_done()\n",
    "        return stream.get_final_messages()"
   ]
  },
  {
   "cell_type": "markdown",
   "metadata": {},
   "source": [
    "### Let talk with Assistant"
   ]
  },
  {
   "cell_type": "code",
   "execution_count": 14,
   "metadata": {},
   "outputs": [
    {
     "name": "stdout",
     "output_type": "stream",
     "text": [
      "\n",
      "assistant > file_search\n",
      "\n",
      "\n",
      "assistant > The key points of the thematic paper \"Retail Business Chatbot Implementation with Dialogflow and IBM Watson\" include:\n",
      "\n",
      "1. **Evaluation of Chatbot Platforms**:\n",
      "   - The study evaluates chatbot platforms based on confidence values, intent classification, accuracy, and user perceptions.\n",
      "   - Aesthetic and minimalist design in chatbots are suggested to be given less importance compared to intent and context accuracy, which are deemed crucial factors for evaluation.\n",
      "   - Emphasizes the significance of core functionality and accuracy while highlighting the need for user-friendly interfaces that prioritize seamless user experiences. \n",
      "\n",
      "2. **Implications**:\n",
      "   - The findings underscore the importance of focusing on intent and context accuracy in designing chatbot interfaces, as these aspects play a significant role in enhancing flow accuracy and user experience.\n",
      "   - The research provides practical implications for chatbot design and evaluation, guiding conversation designers in improving chatbot systems to better meet user needs and expectations.\n",
      "\n",
      "3. **Research Approach**:\n",
      "   - The study proposes a two-phase method for evaluating chatbot platforms, involving the design of the chatbot and the collection of results with confidence values.\n",
      "   - Notable chatbot platforms, Google Dialogflow and IBM Watson, were selected for evaluation using a test set comprising various questions and intents.\n",
      "\n",
      "4. **Methodology**:\n",
      "   - The research utilized Nielsen's heuristics and the Analytic Hierarchy Process (AHP) method to compare and evaluate the chatbot platforms, involving ten conversation designers in the evaluation process.\n",
      "   - AHP survey results highlighted intent and flow accuracy as critical criteria, with Google Dialogflow outperforming IBM Watson in the evaluation.\n",
      "\n",
      "5. **Conclusions**:\n",
      "   - The study contributes to understanding chatbot integration in businesses and provides insights into the crucial aspects of evaluating chatbot platforms based on confidence values, intent classification, accuracy, and user perceptions.\n",
      "\n",
      "Overall, the thematic paper emphasizes the importance of prioritizing intent and context accuracy in chatbot design and evaluation, aiming to enhance the user experience and functionality of chatbot systems[0][1][2].\n",
      "[0] fonThesis.pdf\n",
      "[1] fonThesis.pdf\n",
      "[2] fonThesis.pdf\n"
     ]
    },
    {
     "data": {
      "text/plain": [
       "[Message(id='msg_oLSRFucXluH1VwT7xqrUoxpP', assistant_id='asst_y5C0vVmKLQFYOTmbpHEcj4om', attachments=[], completed_at=1714777756, content=[TextContentBlock(text=Text(annotations=[FileCitationAnnotation(end_index=2261, file_citation=FileCitation(file_id='file-ojMBVCyoJCwhQv4yY6cFBtCP', quote=None), start_index=2249, text='【5:1†source】', type='file_citation'), FileCitationAnnotation(end_index=2273, file_citation=FileCitation(file_id='file-ojMBVCyoJCwhQv4yY6cFBtCP', quote=None), start_index=2261, text='【5:2†source】', type='file_citation'), FileCitationAnnotation(end_index=2285, file_citation=FileCitation(file_id='file-ojMBVCyoJCwhQv4yY6cFBtCP', quote=None), start_index=2273, text='【5:3†source】', type='file_citation')], value='The key points of the thematic paper \"Retail Business Chatbot Implementation with Dialogflow and IBM Watson\" include:\\n\\n1. **Evaluation of Chatbot Platforms**:\\n   - The study evaluates chatbot platforms based on confidence values, intent classification, accuracy, and user perceptions.\\n   - Aesthetic and minimalist design in chatbots are suggested to be given less importance compared to intent and context accuracy, which are deemed crucial factors for evaluation.\\n   - Emphasizes the significance of core functionality and accuracy while highlighting the need for user-friendly interfaces that prioritize seamless user experiences. \\n\\n2. **Implications**:\\n   - The findings underscore the importance of focusing on intent and context accuracy in designing chatbot interfaces, as these aspects play a significant role in enhancing flow accuracy and user experience.\\n   - The research provides practical implications for chatbot design and evaluation, guiding conversation designers in improving chatbot systems to better meet user needs and expectations.\\n\\n3. **Research Approach**:\\n   - The study proposes a two-phase method for evaluating chatbot platforms, involving the design of the chatbot and the collection of results with confidence values.\\n   - Notable chatbot platforms, Google Dialogflow and IBM Watson, were selected for evaluation using a test set comprising various questions and intents.\\n\\n4. **Methodology**:\\n   - The research utilized Nielsen\\'s heuristics and the Analytic Hierarchy Process (AHP) method to compare and evaluate the chatbot platforms, involving ten conversation designers in the evaluation process.\\n   - AHP survey results highlighted intent and flow accuracy as critical criteria, with Google Dialogflow outperforming IBM Watson in the evaluation.\\n\\n5. **Conclusions**:\\n   - The study contributes to understanding chatbot integration in businesses and provides insights into the crucial aspects of evaluating chatbot platforms based on confidence values, intent classification, accuracy, and user perceptions.\\n\\nOverall, the thematic paper emphasizes the importance of prioritizing intent and context accuracy in chatbot design and evaluation, aiming to enhance the user experience and functionality of chatbot systems[0][1][2].'), type='text')], created_at=1714777748, incomplete_at=None, incomplete_details=None, metadata={}, object='thread.message', role='assistant', run_id='run_q7Zd2ECh8xekvnC77bf445hN', status='completed', thread_id='thread_WQMEiDboYVbMSEqScSX7sjMy')]"
      ]
     },
     "execution_count": 14,
     "metadata": {},
     "output_type": "execute_result"
    }
   ],
   "source": [
    "instuction_message = \"Act as Academic Writer to create a paper from the given topic.\"\n",
    "user_message = f\"\"\"from {thesisName},  what is the key point of the PDF file?\"\"\"\n",
    "ask_assistant(instuction_message, user_message)"
   ]
  }
 ],
 "metadata": {
  "kernelspec": {
   "display_name": ".venv",
   "language": "python",
   "name": "python3"
  },
  "language_info": {
   "codemirror_mode": {
    "name": "ipython",
    "version": 3
   },
   "file_extension": ".py",
   "mimetype": "text/x-python",
   "name": "python",
   "nbconvert_exporter": "python",
   "pygments_lexer": "ipython3",
   "version": "3.11.8"
  }
 },
 "nbformat": 4,
 "nbformat_minor": 2
}
