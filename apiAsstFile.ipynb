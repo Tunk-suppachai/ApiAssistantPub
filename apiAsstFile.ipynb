{
 "cells": [
  {
   "cell_type": "markdown",
   "metadata": {},
   "source": [
    "# OpenAI Using API Assistant Files\n"
   ]
  },
  {
   "cell_type": "markdown",
   "metadata": {},
   "source": [
    "This notebook demonstrate the ability of AI to convert the student report to Conferenct Paper. "
   ]
  },
  {
   "cell_type": "code",
   "execution_count": 1,
   "metadata": {},
   "outputs": [],
   "source": [
    "from openai import OpenAI\n",
    "from dotenv import find_dotenv, load_dotenv"
   ]
  },
  {
   "cell_type": "code",
   "execution_count": 2,
   "metadata": {},
   "outputs": [],
   "source": [
    "load_dotenv()\n",
    "client = OpenAI()  "
   ]
  },
  {
   "cell_type": "code",
   "execution_count": 3,
   "metadata": {},
   "outputs": [],
   "source": [
    "# thesisName = \"eyeThesis\"\n",
    "thesisName = \"fonThesis\""
   ]
  },
  {
   "cell_type": "code",
   "execution_count": 5,
   "metadata": {},
   "outputs": [],
   "source": [
    "# helper function to get completions from OpenAI\n",
    "def get_completion(prompt, model=\"gpt-3.5-turbo\"):\n",
    "    messages = [{\"role\": \"user\", \"content\": prompt}]\n",
    "    response = client.chat.completions.create(\n",
    "        model=model,\n",
    "        messages=messages,\n",
    "        temperature=0,\n",
    "        max_tokens= 2000\n",
    "    )\n",
    "    return response.choices[0].message.content"
   ]
  },
  {
   "cell_type": "code",
   "execution_count": null,
   "metadata": {},
   "outputs": [],
   "source": [
    "# Create Assitant\n",
    "# assistant = client.beta.assistants.create(\n",
    "#   name=\"Paper Writing Assistant\",\n",
    "#   instructions=\"You are an expert financial analyst. Use you knowledge base to answer questions about audited financial statements.\",\n",
    "#   model=\"gpt-3.5-turbo\",\n",
    "#   tools=[{\"type\": \"file_search\"}],\n",
    "# )\n",
    "# assistant_id = assistant.id\n",
    "# print(assistant_id)"
   ]
  },
  {
   "cell_type": "code",
   "execution_count": 6,
   "metadata": {},
   "outputs": [],
   "source": [
    "assistant_id = 'asst_ncWicyO0j4TsiOsdtuDpldC6'"
   ]
  },
  {
   "cell_type": "code",
   "execution_count": null,
   "metadata": {},
   "outputs": [],
   "source": [
    "# # Create a vector store called \"Paper Data\"\n",
    "# vector_store = client.beta.vector_stores.create(name=\"Paper Data\")\n",
    " \n",
    "# # Ready the files for upload to OpenAI \n",
    "# file_paths = [\"/Users/taweesaksamanchuen/Dev/ApiAssistant/book/eyeThesis.pdf\", \"/Users/taweesaksamanchuen/Dev/ApiAssistant/book/fonThesis.pdf\"]\n",
    "# file_streams = [open(path, \"rb\") for path in file_paths]\n",
    " \n",
    "# # Use the upload and poll SDK helper to upload the files, add them to the vector store,\n",
    "# # and poll the status of the file batch for completion.\n",
    "# file_batch = client.beta.vector_stores.file_batches.upload_and_poll(\n",
    "#   vector_store_id=vector_store.id, files=file_streams\n",
    "# )\n",
    " \n",
    "# # You can print the status and the file counts of the batch to see the result of this operation. \n",
    "# print(file_batch.status)\n",
    "# print(file_batch.file_counts)"
   ]
  },
  {
   "cell_type": "code",
   "execution_count": null,
   "metadata": {},
   "outputs": [],
   "source": [
    "# Attach the vector store to the assistant\n",
    "# assistant = client.beta.assistants.update(\n",
    "#   assistant_id=assistant_id,\n",
    "#   tool_resources={\"file_search\": {\"vector_store_ids\": [vector_store.id]}},\n",
    "# )\n"
   ]
  },
  {
   "cell_type": "code",
   "execution_count": 7,
   "metadata": {},
   "outputs": [
    {
     "name": "stdout",
     "output_type": "stream",
     "text": [
      "None\n",
      "thread_P3qOUPioTqtNSQ0m674vdA0I\n"
     ]
    }
   ],
   "source": [
    "# Upload the user provided file to OpenAI\n",
    "# message_file = client.files.create(\n",
    "#   file=open(\"edgar/aapl-10k.pdf\", \"rb\"), purpose=\"assistants\"\n",
    "# )\n",
    " \n",
    "# Create a thread and attach the file to the message\n",
    "thread = client.beta.threads.create(\n",
    "  messages=[\n",
    "    {\n",
    "      \"role\": \"user\",\n",
    "      \"content\": \"Study the PDF file and summarize the key points.\",\n",
    "      # Attach the new file to the message.\n",
    "    #   \"attachments\": [\n",
    "    #     { \"file_id\": message_file.id, \"tools\": [{\"type\": \"file_search\"}] }\n",
    "    #  ],\n",
    "    }\n",
    "  ]\n",
    ")\n",
    " \n",
    "# The thread now has a vector store with that file in its tool resources.\n",
    "print(thread.tool_resources.file_search)\n",
    "thread_id = thread.id\n",
    "print(thread_id)"
   ]
  },
  {
   "cell_type": "code",
   "execution_count": null,
   "metadata": {},
   "outputs": [],
   "source": [
    "# #current thread id \n",
    "# thread_id = 'thread_pUGOPAakwhHWwgKwF9wztzl8'\n",
    "# #delete thread\n",
    "# client.beta.threads.delete(thread_id)\n",
    "\n",
    "\n"
   ]
  },
  {
   "cell_type": "code",
   "execution_count": 8,
   "metadata": {},
   "outputs": [],
   "source": [
    "from typing_extensions import override\n",
    "from openai import AssistantEventHandler\n",
    " \n",
    "class EventHandler(AssistantEventHandler):\n",
    "    @override\n",
    "    def on_text_created(self, text) -> None:\n",
    "        print(f\"\\nassistant > \", end=\"\", flush=True)\n",
    "\n",
    "    @override\n",
    "    def on_tool_call_created(self, tool_call):\n",
    "        print(f\"\\nassistant > {tool_call.type}\\n\", flush=True)\n",
    "\n",
    "    @override\n",
    "    def on_message_done(self, message) -> None:\n",
    "        # print a citation to the file searched\n",
    "        message_content = message.content[0].text\n",
    "        annotations = message_content.annotations\n",
    "        citations = []\n",
    "        for index, annotation in enumerate(annotations):\n",
    "            message_content.value = message_content.value.replace(\n",
    "                annotation.text, f\"[{index}]\"\n",
    "            )\n",
    "            if file_citation := getattr(annotation, \"file_citation\", None):\n",
    "                cited_file = client.files.retrieve(file_citation.file_id)\n",
    "                citations.append(f\"[{index}] {cited_file.filename}\")\n",
    "\n",
    "        print(message_content.value)\n",
    "        print(\"\\n\".join(citations))\n",
    "\n",
    "\n"
   ]
  },
  {
   "cell_type": "code",
   "execution_count": 9,
   "metadata": {},
   "outputs": [],
   "source": [
    "def ask_assistant(instuction_message, user_message):\n",
    "    message = client.beta.threads.messages.create(\n",
    "    thread_id=thread_id,\n",
    "    role=\"user\",\n",
    "    content= user_message,\n",
    "    )\n",
    "    with client.beta.threads.runs.stream(\n",
    "        thread_id = thread_id,\n",
    "        assistant_id = assistant_id,\n",
    "        instructions= instuction_message,\n",
    "        event_handler=EventHandler(),\n",
    "    ) as stream:\n",
    "        stream.until_done()\n",
    "        return stream.get_final_messages()"
   ]
  },
  {
   "cell_type": "code",
   "execution_count": 11,
   "metadata": {},
   "outputs": [
    {
     "name": "stdout",
     "output_type": "stream",
     "text": [
      "\n",
      "assistant > file_search\n",
      "\n",
      "\n",
      "assistant > The key point of the PDF file \"RETAIL BUSINESS CHATBOT IMPLEMENTATION WITH DIALOGFLOW AND IBM WATSON\" is the evaluation of chatbot platforms based on confidence values, intent classification, accuracy, and user perceptions. The study suggests that aesthetic and minimalist design should be given less importance compared to intent and context accuracy when evaluating chatbot platforms. It emphasizes the significance of core functionality and accuracy in designing and evaluating chatbots, aiming to enhance flow accuracy, provide helpful error messages, and offer user control freedom. The findings provide practical implications for designing user-friendly interfaces that prioritize seamless user experiences[0].\n",
      "[0] fonThesis.pdf\n"
     ]
    },
    {
     "data": {
      "text/plain": [
       "[Message(id='msg_VbDxOPMmtsGOG9CFaFwPjJLO', assistant_id='asst_ncWicyO0j4TsiOsdtuDpldC6', attachments=[], completed_at=1714455893, content=[TextContentBlock(text=Text(annotations=[FileCitationAnnotation(end_index=724, file_citation=FileCitation(file_id='file-gfeZfARaGZbR7ow4qtETdRu8', quote=None), start_index=712, text='【5:1†source】', type='file_citation')], value='The key point of the PDF file \"RETAIL BUSINESS CHATBOT IMPLEMENTATION WITH DIALOGFLOW AND IBM WATSON\" is the evaluation of chatbot platforms based on confidence values, intent classification, accuracy, and user perceptions. The study suggests that aesthetic and minimalist design should be given less importance compared to intent and context accuracy when evaluating chatbot platforms. It emphasizes the significance of core functionality and accuracy in designing and evaluating chatbots, aiming to enhance flow accuracy, provide helpful error messages, and offer user control freedom. The findings provide practical implications for designing user-friendly interfaces that prioritize seamless user experiences[0].'), type='text')], created_at=1714455890, incomplete_at=None, incomplete_details=None, metadata={}, object='thread.message', role='assistant', run_id='run_NOXzaYJVA0o3gFgPwxnukZVl', status='completed', thread_id='thread_P3qOUPioTqtNSQ0m674vdA0I')]"
      ]
     },
     "execution_count": 11,
     "metadata": {},
     "output_type": "execute_result"
    }
   ],
   "source": [
    "instuction_message = \"Act as Academic Writer to create a paper from the given topic.\"\n",
    "user_message = f\"\"\"from {thesisName},  what is the key point of the PDF file?\"\"\"\n",
    "ask_assistant(instuction_message, user_message)"
   ]
  }
 ],
 "metadata": {
  "kernelspec": {
   "display_name": ".venv",
   "language": "python",
   "name": "python3"
  },
  "language_info": {
   "codemirror_mode": {
    "name": "ipython",
    "version": 3
   },
   "file_extension": ".py",
   "mimetype": "text/x-python",
   "name": "python",
   "nbconvert_exporter": "python",
   "pygments_lexer": "ipython3",
   "version": "3.10.13"
  }
 },
 "nbformat": 4,
 "nbformat_minor": 2
}
