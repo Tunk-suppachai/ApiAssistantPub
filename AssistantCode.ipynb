{
 "cells": [
  {
   "cell_type": "markdown",
   "metadata": {},
   "source": [
    "# OpenAI Assistant with Code interpreter "
   ]
  },
  {
   "cell_type": "markdown",
   "metadata": {},
   "source": [
    "Code interpreter is the ability that Assistant can run the code and show the result. <br>\n",
    "This option can be helpful when want to do the complex computation"
   ]
  },
  {
   "cell_type": "markdown",
   "metadata": {},
   "source": [
    "### Setup"
   ]
  },
  {
   "cell_type": "code",
   "execution_count": 2,
   "metadata": {},
   "outputs": [],
   "source": [
    "from openai import OpenAI\n",
    "from dotenv import find_dotenv, load_dotenv\n",
    "import os"
   ]
  },
  {
   "cell_type": "code",
   "execution_count": 6,
   "metadata": {},
   "outputs": [],
   "source": [
    "load_dotenv()\n",
    "#print(os.environ.get(\"OPENAI_API_KEY\"))\n",
    "client = OpenAI()  "
   ]
  },
  {
   "cell_type": "markdown",
   "metadata": {},
   "source": [
    "### Create Assistant and Thread"
   ]
  },
  {
   "cell_type": "code",
   "execution_count": 11,
   "metadata": {},
   "outputs": [
    {
     "name": "stdout",
     "output_type": "stream",
     "text": [
      "asst_ytHThXQ6dZJLN76cTKbhJqET\n"
     ]
    }
   ],
   "source": [
    "\n",
    "# assistant = client.beta.assistants.create(\n",
    "#   name=\"Math Tutor\",\n",
    "#   instructions=\"You are a personal math tutor. Write and run code to answer math questions.\",\n",
    "#   tools=[{\"type\": \"code_interpreter\"}],\n",
    "#   model=\"gpt-3.5-turbo-16k\",\n",
    "# )\n",
    "# assistant_id = assistant.id\n",
    "# print(assistant_id)"
   ]
  },
  {
   "cell_type": "code",
   "execution_count": 10,
   "metadata": {},
   "outputs": [],
   "source": [
    "# thread = client.beta.threads.create()\n",
    "# thread_id = thread.id\n",
    "# print(thread_id)"
   ]
  },
  {
   "cell_type": "code",
   "execution_count": 12,
   "metadata": {},
   "outputs": [],
   "source": [
    "# assistant_id = \"asst_ytHThXQ6dZJLN76cTKbhJqET\"\n",
    "# thread_id = \"thread_9YkjUxctrrbkVcc5Wjcu6eSq\""
   ]
  },
  {
   "cell_type": "markdown",
   "metadata": {},
   "source": [
    "#### helper function"
   ]
  },
  {
   "cell_type": "code",
   "execution_count": 24,
   "metadata": {},
   "outputs": [],
   "source": [
    "from typing_extensions import override\n",
    "from openai import AssistantEventHandler\n",
    " \n",
    "# First, we create a EventHandler class to define\n",
    "# how we want to handle the events in the response stream.\n",
    " \n",
    "class EventHandler(AssistantEventHandler):    \n",
    "  @override\n",
    "  def on_text_created(self, text) -> None:\n",
    "    print(f\"\\nassistant > \", end=\"\", flush=True)\n",
    "      \n",
    "  @override\n",
    "  def on_text_delta(self, delta, snapshot):\n",
    "    print(delta.value, end=\"\", flush=True)\n",
    "      \n",
    "  def on_tool_call_created(self, tool_call):\n",
    "    print(f\"\\nassistant > {tool_call.type}\\n\", flush=True)\n",
    "  \n",
    "  def on_tool_call_delta(self, delta, snapshot):\n",
    "    if delta.type == 'code_interpreter':\n",
    "      if delta.code_interpreter.input:\n",
    "        print(delta.code_interpreter.input, end=\"\", flush=True)\n",
    "      if delta.code_interpreter.outputs:\n",
    "        print(f\"\\n\\noutput >\", flush=True)\n",
    "        for output in delta.code_interpreter.outputs:\n",
    "          if output.type == \"logs\":\n",
    "            print(f\"\\n{output.logs}\", flush=True)\n",
    " \n",
    "# Then, we use the `stream` SDK helper \n",
    "# with the `EventHandler` class to create the Run \n",
    "# and stream the response.\n",
    " \n"
   ]
  },
  {
   "cell_type": "markdown",
   "metadata": {},
   "source": [
    "### Let talk with Assistant"
   ]
  },
  {
   "cell_type": "code",
   "execution_count": 25,
   "metadata": {},
   "outputs": [
    {
     "name": "stdout",
     "output_type": "stream",
     "text": [
      "\n",
      "assistant > Of course! To solve the equation \\(3x + 11 = 14\\):\n",
      "\n",
      "1. Subtract 11 from both sides of the equation:\n",
      "   \\[3x + 11 - 11 = 14 - 11\\]\n",
      "   This simplifies to:\n",
      "   \\[3x = 3\\]\n",
      "\n",
      "2. Divide both sides of the equation by 3 to solve for \\(x\\):\n",
      "   \\[\\frac{3x}{3} = \\frac{3}{3}\\]\n",
      "   This gives:\n",
      "   \\[x = 1\\]\n",
      "\n",
      "So, the solution to the equation \\(3x + 11 = 14\\) is \\(x = 1\\)."
     ]
    }
   ],
   "source": [
    "message = client.beta.threads.messages.create(\n",
    "  thread_id=thread_id,\n",
    "  role=\"user\",\n",
    "  content=\"I need to solve the equation `3x + 11 = 14`. Can you help me?\"\n",
    ")\n",
    "with client.beta.threads.runs.stream(\n",
    "  thread_id=thread_id,\n",
    "  assistant_id=assistant_id,\n",
    "  event_handler=EventHandler(),\n",
    ") as stream:\n",
    "  stream.until_done()"
   ]
  },
  {
   "cell_type": "code",
   "execution_count": 17,
   "metadata": {},
   "outputs": [],
   "source": [
    "message = client.beta.threads.messages.create(\n",
    "  thread_id=thread_id,\n",
    "  role=\"user\",\n",
    "  content=\"I need to solve the equation `3x^2 + 11i = 14`. Can you help me?\"\n",
    ")"
   ]
  },
  {
   "cell_type": "code",
   "execution_count": 26,
   "metadata": {},
   "outputs": [
    {
     "name": "stdout",
     "output_type": "stream",
     "text": [
      "\n",
      "assistant > code_interpreter\n",
      "\n",
      "from sympy import symbols, Eq, solve\n",
      "\n",
      "# Define the variable x\n",
      "x = symbols('x')\n",
      "\n",
      "# Define the equation\n",
      "equation = Eq(3*x + 11, 14)\n",
      "\n",
      "# Solve the equation\n",
      "solution = solve(equation, x)\n",
      "solution\n",
      "\n",
      "output >\n",
      "\n",
      "[1]\n",
      "\n",
      "assistant > The solution to the equation \\(3x + 11 = 14\\) is \\(x = 1\\)."
     ]
    }
   ],
   "source": [
    "with client.beta.threads.runs.stream(\n",
    "  thread_id=thread_id,\n",
    "  assistant_id=assistant_id,\n",
    "  event_handler=EventHandler(),\n",
    ") as stream:\n",
    "  stream.until_done()"
   ]
  },
  {
   "cell_type": "code",
   "execution_count": 19,
   "metadata": {},
   "outputs": [
    {
     "name": "stdout",
     "output_type": "stream",
     "text": [
      "\n",
      "assistant > To calculate the volume of a sphere with radius \\( r = 2 \\), we can use the formula:\n",
      "\n",
      "\\[ V = \\frac{4}{3} \\pi r^3 \\]\n",
      "\n",
      "Substituting the value of \\( r = 2 \\) into the equation, we can find the integral volume of the sphere.\n",
      "assistant > code_interpreter\n",
      "\n",
      "import math\n",
      "\n",
      "# Define the radius\n",
      "r = 2\n",
      "\n",
      "# Calculate the volume of the sphere\n",
      "volume = (4/3) * math.pi * (r**3)\n",
      "volume\n",
      "\n",
      "output >\n",
      "\n",
      "33.510321638291124\n",
      "\n",
      "assistant > The integral volume of the sphere with a radius of 2 is approximately 33.51 cubic units."
     ]
    }
   ],
   "source": [
    "message = client.beta.threads.messages.create(\n",
    "  thread_id=thread_id,\n",
    "  role=\"user\",\n",
    "  content=\"Calculate the integral volume of spherical with r =2.\"\n",
    ")\n",
    "with client.beta.threads.runs.stream(\n",
    "  thread_id=thread_id,\n",
    "  assistant_id=assistant_id,\n",
    "  event_handler=EventHandler(),\n",
    ") as stream:\n",
    "  stream.until_done()"
   ]
  }
 ],
 "metadata": {
  "kernelspec": {
   "display_name": ".venv",
   "language": "python",
   "name": "python3"
  },
  "language_info": {
   "codemirror_mode": {
    "name": "ipython",
    "version": 3
   },
   "file_extension": ".py",
   "mimetype": "text/x-python",
   "name": "python",
   "nbconvert_exporter": "python",
   "pygments_lexer": "ipython3",
   "version": "3.11.8"
  }
 },
 "nbformat": 4,
 "nbformat_minor": 2
}
