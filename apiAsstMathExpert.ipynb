{
 "cells": [
  {
   "cell_type": "markdown",
   "metadata": {},
   "source": [
    "# OpenAI with Code interpreter "
   ]
  },
  {
   "cell_type": "code",
   "execution_count": 1,
   "metadata": {},
   "outputs": [],
   "source": [
    "from openai import OpenAI\n",
    "from dotenv import find_dotenv, load_dotenv\n",
    "import os"
   ]
  },
  {
   "cell_type": "code",
   "execution_count": 8,
   "metadata": {},
   "outputs": [
    {
     "name": "stdout",
     "output_type": "stream",
     "text": [
      "sk-proj-slyrxsNHkR2CawBPxsUvT3BlbkFJscmiEkQP5rSRGVuUrliS\n"
     ]
    }
   ],
   "source": [
    "load_dotenv()\n",
    "print(os.environ.get(\"OPENAI_API_KEY\"))"
   ]
  },
  {
   "cell_type": "code",
   "execution_count": 9,
   "metadata": {},
   "outputs": [],
   "source": [
    "client = OpenAI()  \n",
    "# assistant = client.beta.assistants.create(\n",
    "#   name=\"Math Tutor\",\n",
    "#   instructions=\"You are a personal math tutor. Write and run code to answer math questions.\",\n",
    "#   tools=[{\"type\": \"code_interpreter\"}],\n",
    "#   model=\"gpt-4-turbo\",\n",
    "# )\n",
    "# assistant_id = assistant.id\n",
    "# print(assistant_id)"
   ]
  },
  {
   "cell_type": "code",
   "execution_count": 10,
   "metadata": {},
   "outputs": [],
   "source": [
    "# thread = client.beta.threads.create()\n",
    "# thread_id = thread.id\n",
    "# print(thread_id)"
   ]
  },
  {
   "cell_type": "code",
   "execution_count": 18,
   "metadata": {},
   "outputs": [],
   "source": [
    "assistant_id = \"asst_GoQATrqIToLMKCz9k7AXEzEO\"\n",
    "thread_id = \"thread_9YkjUxctrrbkVcc5Wjcu6eSq\""
   ]
  },
  {
   "cell_type": "code",
   "execution_count": 13,
   "metadata": {},
   "outputs": [],
   "source": [
    "message = client.beta.threads.messages.create(\n",
    "  thread_id=thread_id,\n",
    "  role=\"user\",\n",
    "  content=\"I need to solve the equation `3x + 11 = 14`. Can you help me?\"\n",
    ")"
   ]
  },
  {
   "cell_type": "code",
   "execution_count": 19,
   "metadata": {},
   "outputs": [
    {
     "name": "stdout",
     "output_type": "stream",
     "text": [
      "\n",
      "assistant > To solve the equation \\(3x + 11 = 14\\):\n",
      "\n",
      "1. Start by isolating the term with \\(x\\). Subtract 11 from both sides of the equation:\n",
      "   \\[\n",
      "   3x + 11 - 11 = 14 - 11\n",
      "   \\]\n",
      "   which simplifies to:\n",
      "   \\[\n",
      "   3x = 3\n",
      "   \\]\n",
      "\n",
      "2. Next, divide both sides by 3 to solve for \\(x\\):\n",
      "   \\[\n",
      "   \\frac{3x}{3} = \\frac{3}{3}\n",
      "   \\]\n",
      "   resulting in:\n",
      "   \\[\n",
      "   x = 1\n",
      "   \\]\n",
      "\n",
      "Therefore, \\(x = 1\\) is the solution to the equation \\(3x + 11 = 14\\)."
     ]
    }
   ],
   "source": [
    "from typing_extensions import override\n",
    "from openai import AssistantEventHandler\n",
    " \n",
    "# First, we create a EventHandler class to define\n",
    "# how we want to handle the events in the response stream.\n",
    " \n",
    "class EventHandler(AssistantEventHandler):    \n",
    "  @override\n",
    "  def on_text_created(self, text) -> None:\n",
    "    print(f\"\\nassistant > \", end=\"\", flush=True)\n",
    "      \n",
    "  @override\n",
    "  def on_text_delta(self, delta, snapshot):\n",
    "    print(delta.value, end=\"\", flush=True)\n",
    "      \n",
    "  def on_tool_call_created(self, tool_call):\n",
    "    print(f\"\\nassistant > {tool_call.type}\\n\", flush=True)\n",
    "  \n",
    "  def on_tool_call_delta(self, delta, snapshot):\n",
    "    if delta.type == 'code_interpreter':\n",
    "      if delta.code_interpreter.input:\n",
    "        print(delta.code_interpreter.input, end=\"\", flush=True)\n",
    "      if delta.code_interpreter.outputs:\n",
    "        print(f\"\\n\\noutput >\", flush=True)\n",
    "        for output in delta.code_interpreter.outputs:\n",
    "          if output.type == \"logs\":\n",
    "            print(f\"\\n{output.logs}\", flush=True)\n",
    " \n",
    "# Then, we use the `stream` SDK helper \n",
    "# with the `EventHandler` class to create the Run \n",
    "# and stream the response.\n",
    " \n",
    "with client.beta.threads.runs.stream(\n",
    "  thread_id=thread_id,\n",
    "  assistant_id=assistant_id,\n",
    "  instructions=\"Please address the user as Jane Doe. The user has a premium account.\",\n",
    "  event_handler=EventHandler(),\n",
    ") as stream:\n",
    "  stream.until_done()"
   ]
  },
  {
   "cell_type": "code",
   "execution_count": 22,
   "metadata": {},
   "outputs": [],
   "source": [
    "message = client.beta.threads.messages.create(\n",
    "  thread_id=thread_id,\n",
    "  role=\"user\",\n",
    "  content=\"I need to solve the equation `3x^2 + 11i = 14`. Can you help me?\"\n",
    ")"
   ]
  },
  {
   "cell_type": "code",
   "execution_count": 23,
   "metadata": {},
   "outputs": [
    {
     "name": "stdout",
     "output_type": "stream",
     "text": [
      "\n",
      "assistant > To solve the equation involving a complex number, \\(3x^2 + 11i = 14\\), we need to handle the imaginary component properly.\n",
      "\n",
      "First, let's rearrange the equation to isolate terms:\n",
      "\\[3x^2 = 14 - 11i\\]\n",
      "\n",
      "Next, we want to solve for \\(x^2\\). Divide both sides of the equation by 3:\n",
      "\\[x^2 = \\frac{14 - 11i}{3}\\]\n",
      "\n",
      "Now, to find \\(x\\), we take the complex square roots of the right-hand side.\n",
      "\\[x = \\pm \\sqrt{\\frac{14 - 11i}{3}}\\]\n",
      "\n",
      "Let's calculate the complex square roots of \\(\\frac{14 - 11i}{3}\\).\n",
      "assistant > code_interpreter\n",
      "\n",
      "import sympy as sp\n",
      "\n",
      "# Define the complex number\n",
      "complex_number = (14 - 11*sp.I) / 3\n",
      "\n",
      "# Calculate the square roots of the complex number\n",
      "x_roots = sp.sqrt(complex_number)\n",
      "x_roots\n",
      "\n",
      "output >\n",
      "\n",
      "sqrt(14/3 - 11*I/3)\n",
      "\n",
      "assistant > The value of \\(x\\) can be expressed as:\n",
      "\\[ x = \\pm \\sqrt{\\frac{14}{3} - \\frac{11i}{3}} \\]\n",
      "\n",
      "The expression includes complex square roots, so if you need the numeric approximation for real and imaginary components or further simplification, please let me know, Jane Doe!"
     ]
    }
   ],
   "source": [
    "with client.beta.threads.runs.stream(\n",
    "  thread_id=thread_id,\n",
    "  assistant_id=assistant_id,\n",
    "  instructions=\"Please address the user as Jane Doe. The user has a premium account.\",\n",
    "  event_handler=EventHandler(),\n",
    ") as stream:\n",
    "  stream.until_done()"
   ]
  }
 ],
 "metadata": {
  "kernelspec": {
   "display_name": ".venv",
   "language": "python",
   "name": "python3"
  },
  "language_info": {
   "codemirror_mode": {
    "name": "ipython",
    "version": 3
   },
   "file_extension": ".py",
   "mimetype": "text/x-python",
   "name": "python",
   "nbconvert_exporter": "python",
   "pygments_lexer": "ipython3",
   "version": "3.10.13"
  }
 },
 "nbformat": 4,
 "nbformat_minor": 2
}
