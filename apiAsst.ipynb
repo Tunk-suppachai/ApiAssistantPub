{
 "cells": [
  {
   "cell_type": "markdown",
   "metadata": {},
   "source": [
    "# Basic Concept of Assistant API "
   ]
  },
  {
   "cell_type": "markdown",
   "metadata": {},
   "source": [
    "In this note book, we will learn how to create Assistant API\n",
    "\n",
    "The basic components of Assistant API are:\n",
    "1. Assistant\n",
    "2. Thread  "
   ]
  },
  {
   "cell_type": "code",
   "execution_count": 2,
   "metadata": {},
   "outputs": [],
   "source": [
    "import openai\n",
    "from dotenv import find_dotenv, load_dotenv\n",
    "import os\n",
    "import time\n",
    "import logging\n",
    "from datetime import datetime"
   ]
  },
  {
   "cell_type": "code",
   "execution_count": 3,
   "metadata": {},
   "outputs": [],
   "source": [
    "\n",
    "load_dotenv()\n",
    "# print(os.environ.get(\"OPENAI_API_KEY\"))\n",
    "client = openai.OpenAI()\n",
    "model = \"gpt-3.5-turbo-16k\"\n"
   ]
  },
  {
   "cell_type": "code",
   "execution_count": 3,
   "metadata": {},
   "outputs": [],
   "source": [
    "# # ==  Create our Assistant (Uncomment this to create your assistant) ==\n",
    "# personal_trainer_assis = client.beta.assistants.create(\n",
    "#     name=\"Personal Trainer\",\n",
    "#     instructions=\"\"\"You are the best personal trainer and nutritionist who knows how to get clients to build lean muscles.\\n\n",
    "#      You've trained high-caliber athletes and movie stars. \"\"\",\n",
    "#     model=model,\n",
    "# )\n",
    "# asistant_id = personal_trainer_assis.id\n",
    "# print(asistant_id)\n"
   ]
  },
  {
   "cell_type": "code",
   "execution_count": 4,
   "metadata": {},
   "outputs": [],
   "source": [
    "# #=== Thread (uncomment this to create your Thread) ===\n",
    "# thread = client.beta.threads.create(\n",
    "#     messages=[\n",
    "#         {\n",
    "#             \"role\": \"user\",\n",
    "#             \"content\": \"How do I get started working out to lose fat and build muscles?\",\n",
    "#         }\n",
    "#     ]\n",
    "# )\n",
    "# thread_id = thread.id\n",
    "# print(thread_id)\n"
   ]
  },
  {
   "cell_type": "code",
   "execution_count": 9,
   "metadata": {},
   "outputs": [],
   "source": [
    "def wait_for_run_completion(client, thread_id, run_id, sleep_interval=5):\n",
    "    \"\"\"\n",
    "\n",
    "    Waits for a run to complete and prints the elapsed time.:param client: The OpenAI client object.\n",
    "    :param thread_id: The ID of the thread.\n",
    "    :param run_id: The ID of the run.\n",
    "    :param sleep_interval: Time in seconds to wait between checks.\n",
    "    \"\"\"\n",
    "    while True:\n",
    "        try:\n",
    "            run = client.beta.threads.runs.retrieve(thread_id=thread_id, run_id=run_id)\n",
    "            if run.completed_at:\n",
    "                elapsed_time = run.completed_at - run.created_at\n",
    "                formatted_elapsed_time = time.strftime(\n",
    "                    \"%H:%M:%S\", time.gmtime(elapsed_time)\n",
    "                )\n",
    "                print(f\"Run completed in {formatted_elapsed_time}\")\n",
    "                logging.info(f\"Run completed in {formatted_elapsed_time}\")\n",
    "                # Get messages here once Run is completed!\n",
    "                messages = client.beta.threads.messages.list(thread_id=thread_id)\n",
    "                last_message = messages.data[0]\n",
    "                response = last_message.content[0].text.value\n",
    "                print(f\"Assistant Response: {response}\")\n",
    "                break\n",
    "        except Exception as e:\n",
    "            logging.error(f\"An error occurred while retrieving the run: {e}\")\n",
    "            break\n",
    "        logging.info(\"Waiting for run to complete...\")\n",
    "        time.sleep(sleep_interval)"
   ]
  },
  {
   "cell_type": "code",
   "execution_count": 4,
   "metadata": {},
   "outputs": [],
   "source": [
    "# === Hardcode our ids ===\n",
    "asistant_id = \"asst_PQBzZyey1O7XiT1miiOx6k2G\"\n",
    "thread_id = \"thread_BShCPgdNwuyOdl2hQ7yr5kMB\""
   ]
  },
  {
   "cell_type": "code",
   "execution_count": 11,
   "metadata": {},
   "outputs": [],
   "source": [
    "# ==== Create a Message ====\n",
    "message = \"How many reps do I need to do to build lean muscles?\"\n",
    "message = client.beta.threads.messages.create(\n",
    "    thread_id=thread_id, role=\"user\", content=message\n",
    ")\n",
    "\n"
   ]
  },
  {
   "cell_type": "code",
   "execution_count": 12,
   "metadata": {},
   "outputs": [
    {
     "name": "stdout",
     "output_type": "stream",
     "text": [
      "Run completed in 00:00:04\n",
      "Assistant Response: Ah, Mr. Bond, when it comes to building lean muscles, the ideal rep range typically falls within 8 to 12 repetitions per set.\n",
      "\n",
      "Performing 8 to 12 reps is often considered optimal for muscle hypertrophy, or the growth and development of lean muscle mass. By lifting weights within this range, you provide enough stimulus to your muscles to encourage adaptation and growth.\n",
      "\n",
      "However, it's important to note that the specific rep range can vary depending on individual factors such as fitness level, goals, and exercise selection. Some individuals may benefit from higher or lower rep ranges, depending on their specific needs and preferences.\n",
      "\n",
      "Incorporating variety into your training can also be beneficial. Lower rep ranges (such as 4 to 6 reps) tend to emphasize strength gains, while higher rep ranges (such as 12 to 15 or more) can focus on muscular endurance.\n",
      "\n",
      "Remember to prioritize proper form and technique during your workouts to maximize the effectiveness of your exercises and reduce the risk of injury. In addition to rep ranges, other factors such as progressive overload, rest, recovery, and a balanced diet all play significant roles in building lean muscles.\n",
      "\n",
      "If you're seeking a more personalized approach, consulting with a qualified fitness professional can provide tailored guidance based on your unique circumstances and goals.\n"
     ]
    }
   ],
   "source": [
    "# === Run our Assistant ===\n",
    "run = client.beta.threads.runs.create(\n",
    "    thread_id=thread_id,\n",
    "    assistant_id=asistant_id,\n",
    "    instructions=\"Please address the user as James Bond\",\n",
    ")\n",
    "# === Run ===\n",
    "wait_for_run_completion(client=client, thread_id=thread_id, run_id=run.id)\n"
   ]
  },
  {
   "cell_type": "code",
   "execution_count": 10,
   "metadata": {},
   "outputs": [
    {
     "name": "stdout",
     "output_type": "stream",
     "text": [
      "Steps---> RunStep(id='step_C24DlcF8nSwJXBP8PiMWXrEP', assistant_id='asst_PQBzZyey1O7XiT1miiOx6k2G', cancelled_at=None, completed_at=1714711030, created_at=1714711029, expired_at=None, failed_at=None, last_error=None, metadata=None, object='thread.run.step', run_id='run_zut6N6Os8vtGhDjuJXMJYJTH', status='completed', step_details=MessageCreationStepDetails(message_creation=MessageCreation(message_id='msg_v2u4F9OBlmOZSgQeWlYu88BC'), type='message_creation'), thread_id='thread_BShCPgdNwuyOdl2hQ7yr5kMB', type='message_creation', usage=Usage(completion_tokens=78, prompt_tokens=2691, total_tokens=2769), expires_at=None)\n"
     ]
    }
   ],
   "source": [
    "# ==== Steps --- Logs ==\n",
    "run_steps = client.beta.threads.runs.steps.list(thread_id=thread_id, run_id=run.id)\n",
    "print(f\"Steps---> {run_steps.data[0]}\")"
   ]
  },
  {
   "cell_type": "code",
   "execution_count": 13,
   "metadata": {},
   "outputs": [
    {
     "name": "stdout",
     "output_type": "stream",
     "text": [
      "Run completed in 00:00:03\n",
      "Assistant Response: I apologize for not introducing myself earlier, Mr. Bond. I am an AI language model developed by OpenAI. My purpose is to assist users by providing information, answering questions, and engaging in conversation. While I don't possess personal identity or physical form, I'm here to help and offer guidance on various topics. How may I assist you today, Mr. Bond?\n"
     ]
    }
   ],
   "source": [
    "# ==== Create a Message ====\n",
    "message = \"Who are you?\"\n",
    "message = client.beta.threads.messages.create(\n",
    "    thread_id=thread_id, role=\"user\", content=message\n",
    ")\n",
    "\n",
    "# === Run our Assistant ===\n",
    "run = client.beta.threads.runs.create(\n",
    "    thread_id=thread_id,\n",
    "    assistant_id=asistant_id,\n",
    "    instructions=\"You are my assistant\",\n",
    ")\n",
    "wait_for_run_completion(client=client, thread_id=thread_id, run_id=run.id)"
   ]
  }
 ],
 "metadata": {
  "kernelspec": {
   "display_name": ".venv",
   "language": "python",
   "name": "python3"
  },
  "language_info": {
   "codemirror_mode": {
    "name": "ipython",
    "version": 3
   },
   "file_extension": ".py",
   "mimetype": "text/x-python",
   "name": "python",
   "nbconvert_exporter": "python",
   "pygments_lexer": "ipython3",
   "version": "3.10.13"
  }
 },
 "nbformat": 4,
 "nbformat_minor": 2
}
