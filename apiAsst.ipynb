{
 "cells": [
  {
   "cell_type": "markdown",
   "metadata": {},
   "source": [
    "# Basic Concept of Api Assistant "
   ]
  },
  {
   "cell_type": "code",
   "execution_count": 5,
   "metadata": {},
   "outputs": [],
   "source": [
    "import openai\n",
    "from dotenv import find_dotenv, load_dotenv\n",
    "import os\n",
    "import time\n",
    "import logging\n",
    "from datetime import datetime"
   ]
  },
  {
   "cell_type": "code",
   "execution_count": 4,
   "metadata": {},
   "outputs": [
    {
     "name": "stdout",
     "output_type": "stream",
     "text": [
      "sk-proj-slyrxsNHkR2CawBPxsUvT3BlbkFJscmiEkQP5rSRGVuUrliS\n"
     ]
    }
   ],
   "source": [
    "\n",
    "load_dotenv()\n",
    "print(os.environ.get(\"OPENAI_API_KEY\"))\n",
    "client = openai.OpenAI()\n",
    "model = \"gpt-3.5-turbo-16k\"\n"
   ]
  },
  {
   "cell_type": "code",
   "execution_count": 3,
   "metadata": {},
   "outputs": [],
   "source": [
    "# # ==  Create our Assistant (Uncomment this to create your assistant) ==\n",
    "# personal_trainer_assis = client.beta.assistants.create(\n",
    "#     name=\"Personal Trainer\",\n",
    "#     instructions=\"\"\"You are the best personal trainer and nutritionist who knows how to get clients to build lean muscles.\\n\n",
    "#      You've trained high-caliber athletes and movie stars. \"\"\",\n",
    "#     model=model,\n",
    "# )\n",
    "# asistant_id = personal_trainer_assis.id\n",
    "# print(asistant_id)\n"
   ]
  },
  {
   "cell_type": "code",
   "execution_count": 4,
   "metadata": {},
   "outputs": [],
   "source": [
    "# #=== Thread (uncomment this to create your Thread) ===\n",
    "# thread = client.beta.threads.create(\n",
    "#     messages=[\n",
    "#         {\n",
    "#             \"role\": \"user\",\n",
    "#             \"content\": \"How do I get started working out to lose fat and build muscles?\",\n",
    "#         }\n",
    "#     ]\n",
    "# )\n",
    "# thread_id = thread.id\n",
    "# print(thread_id)\n"
   ]
  },
  {
   "cell_type": "code",
   "execution_count": 5,
   "metadata": {},
   "outputs": [],
   "source": [
    "# === Hardcode our ids ===\n",
    "asistant_id = \"asst_PQBzZyey1O7XiT1miiOx6k2G\"\n",
    "thread_id = \"thread_BShCPgdNwuyOdl2hQ7yr5kMB\""
   ]
  },
  {
   "cell_type": "code",
   "execution_count": 6,
   "metadata": {},
   "outputs": [],
   "source": [
    "# ==== Create a Message ====\n",
    "message = \"How many reps do I need to do to build lean muscles?\"\n",
    "message = client.beta.threads.messages.create(\n",
    "    thread_id=thread_id, role=\"user\", content=message\n",
    ")\n",
    "\n",
    "# === Run our Assistant ===\n",
    "run = client.beta.threads.runs.create(\n",
    "    thread_id=thread_id,\n",
    "    assistant_id=asistant_id,\n",
    "    instructions=\"Please address the user as James Bond\",\n",
    ")"
   ]
  },
  {
   "cell_type": "code",
   "execution_count": 7,
   "metadata": {},
   "outputs": [],
   "source": [
    "def wait_for_run_completion(client, thread_id, run_id, sleep_interval=5):\n",
    "    \"\"\"\n",
    "\n",
    "    Waits for a run to complete and prints the elapsed time.:param client: The OpenAI client object.\n",
    "    :param thread_id: The ID of the thread.\n",
    "    :param run_id: The ID of the run.\n",
    "    :param sleep_interval: Time in seconds to wait between checks.\n",
    "    \"\"\"\n",
    "    while True:\n",
    "        try:\n",
    "            run = client.beta.threads.runs.retrieve(thread_id=thread_id, run_id=run_id)\n",
    "            if run.completed_at:\n",
    "                elapsed_time = run.completed_at - run.created_at\n",
    "                formatted_elapsed_time = time.strftime(\n",
    "                    \"%H:%M:%S\", time.gmtime(elapsed_time)\n",
    "                )\n",
    "                print(f\"Run completed in {formatted_elapsed_time}\")\n",
    "                logging.info(f\"Run completed in {formatted_elapsed_time}\")\n",
    "                # Get messages here once Run is completed!\n",
    "                messages = client.beta.threads.messages.list(thread_id=thread_id)\n",
    "                last_message = messages.data[0]\n",
    "                response = last_message.content[0].text.value\n",
    "                print(f\"Assistant Response: {response}\")\n",
    "                break\n",
    "        except Exception as e:\n",
    "            logging.error(f\"An error occurred while retrieving the run: {e}\")\n",
    "            break\n",
    "        logging.info(\"Waiting for run to complete...\")\n",
    "        time.sleep(sleep_interval)\n"
   ]
  },
  {
   "cell_type": "code",
   "execution_count": 8,
   "metadata": {},
   "outputs": [
    {
     "name": "stdout",
     "output_type": "stream",
     "text": [
      "Run completed in 00:00:05\n",
      "Assistant Response: To build lean muscles, Mr. Bond, it is generally recommended to perform a moderate number of repetitions per set, typically falling between 8 to 12 reps. This rep range is commonly associated with promoting muscle hypertrophy, or the growth and definition of lean muscle mass.\n",
      "\n",
      "By selecting a weight that challenges you within this rep range, you create the necessary stimulus for muscle fibers to adapt and grow. It's important to use proper form and technique while lifting to ensure effective muscle recruitment.\n",
      "\n",
      "However, it's worth noting that incorporating variations in your rep range can also be beneficial. Lower rep ranges, such as 4 to 6 reps, are often utilized for strength gains, whereas higher rep ranges, like 15 to 20 reps, can improve muscular endurance.\n",
      "\n",
      "Remember, consistency is key in your training regimen. Gradually increase the weight you lift over time, a principle known as progressive overload, to continually challenge your muscles and stimulate growth.\n",
      "\n",
      "Pair your workout routine with a balanced diet and adequate rest to optimize your muscle-building efforts. Should you require further guidance or personalised advice, consider consulting with a qualified fitness professional who can design a program tailored to your specific needs and goals.\n",
      "Steps---> RunStep(id='step_lrhFr6uA3GujoeUVpJjRAtAK', assistant_id='asst_PQBzZyey1O7XiT1miiOx6k2G', cancelled_at=None, completed_at=1714456205, created_at=1714456202, expired_at=None, failed_at=None, last_error=None, metadata=None, object='thread.run.step', run_id='run_0OksvalGr2afIvpelZOdzLrF', status='completed', step_details=MessageCreationStepDetails(message_creation=MessageCreation(message_id='msg_DLSF5AgijHTTwnisLdQVMERy'), type='message_creation'), thread_id='thread_BShCPgdNwuyOdl2hQ7yr5kMB', type='message_creation', usage=Usage(completion_tokens=238, prompt_tokens=1784, total_tokens=2022), expires_at=None)\n"
     ]
    }
   ],
   "source": [
    "# === Run ===\n",
    "wait_for_run_completion(client=client, thread_id=thread_id, run_id=run.id)\n",
    "\n",
    "# ==== Steps --- Logs ==\n",
    "run_steps = client.beta.threads.runs.steps.list(thread_id=thread_id, run_id=run.id)\n",
    "print(f\"Steps---> {run_steps.data[0]}\")"
   ]
  },
  {
   "cell_type": "code",
   "execution_count": 13,
   "metadata": {},
   "outputs": [
    {
     "name": "stdout",
     "output_type": "stream",
     "text": [
      "Run completed in 00:00:03\n",
      "Assistant Response: I apologize for any confusion, Mr. Bond. I am an AI language model developed by OpenAI. My purpose is to assist users in generating human-like text based on the input provided to me. I do not possess a personal identity or physical form, but I am here to provide information and answer any questions you may have to the best of my abilities. How may I assist you, Mr. Bond?\n"
     ]
    }
   ],
   "source": [
    "# ==== Create a Message ====\n",
    "message = \"Who are you?\"\n",
    "message = client.beta.threads.messages.create(\n",
    "    thread_id=thread_id, role=\"user\", content=message\n",
    ")\n",
    "\n",
    "# === Run our Assistant ===\n",
    "run = client.beta.threads.runs.create(\n",
    "    thread_id=thread_id,\n",
    "    assistant_id=asistant_id,\n",
    "    instructions=\"Please address the user as James Bond\",\n",
    ")\n",
    "wait_for_run_completion(client=client, thread_id=thread_id, run_id=run.id)"
   ]
  }
 ],
 "metadata": {
  "kernelspec": {
   "display_name": ".venv",
   "language": "python",
   "name": "python3"
  },
  "language_info": {
   "codemirror_mode": {
    "name": "ipython",
    "version": 3
   },
   "file_extension": ".py",
   "mimetype": "text/x-python",
   "name": "python",
   "nbconvert_exporter": "python",
   "pygments_lexer": "ipython3",
   "version": "3.10.13"
  }
 },
 "nbformat": 4,
 "nbformat_minor": 2
}
