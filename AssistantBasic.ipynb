{
 "cells": [
  {
   "cell_type": "markdown",
   "metadata": {},
   "source": [
    "# Basic Concept of Assistant API "
   ]
  },
  {
   "cell_type": "markdown",
   "metadata": {},
   "source": [
    "In this notebook, we will learn how to create Assistant with Assistant API.\n",
    "The basic components of **Assistant API** are:\n",
    "1. Assistant\n",
    "2. Thread  "
   ]
  },
  {
   "cell_type": "markdown",
   "metadata": {},
   "source": [
    "### Setup Module"
   ]
  },
  {
   "cell_type": "code",
   "execution_count": 1,
   "metadata": {},
   "outputs": [],
   "source": [
    "import openai\n",
    "from dotenv import find_dotenv, load_dotenv\n",
    "#import os\n",
    "import time\n",
    "import logging\n",
    "#from datetime import datetime"
   ]
  },
  {
   "cell_type": "code",
   "execution_count": 2,
   "metadata": {},
   "outputs": [],
   "source": [
    "\n",
    "load_dotenv()\n",
    "# print(os.environ.get(\"OPENAI_API_KEY\"))\n",
    "client = openai.OpenAI()\n",
    "model = \"gpt-3.5-turbo-16k\"\n"
   ]
  },
  {
   "cell_type": "markdown",
   "metadata": {},
   "source": [
    "### Create our Assistant (IF Need, Uncomment the code)"
   ]
  },
  {
   "cell_type": "markdown",
   "metadata": {},
   "source": [
    "Create you assistant character here!"
   ]
  },
  {
   "cell_type": "code",
   "execution_count": 3,
   "metadata": {},
   "outputs": [
    {
     "name": "stdout",
     "output_type": "stream",
     "text": [
      "asst_WT2dd3ua7B47HrZ2kOd2q7E9\n"
     ]
    }
   ],
   "source": [
    "# # ==  Create our Assistant (Uncomment this to create your assistant) ==\n",
    "# personal_trainer_assis = client.beta.assistants.create(\n",
    "#     name=\"Personal Trainer\",\n",
    "#     instructions=\"\"\" \"\"\",\n",
    "#     model=model,\n",
    "# )\n",
    "# assistant_id = personal_trainer_assis.id\n",
    "# print(assistant_id)\n"
   ]
  },
  {
   "cell_type": "markdown",
   "metadata": {},
   "source": [
    "### Create Thread (IF Need, Uncomment the code)"
   ]
  },
  {
   "cell_type": "markdown",
   "metadata": {},
   "source": [
    "Thread is the collection of the conversation. Assistants need a thread to keep track the conversation flow."
   ]
  },
  {
   "cell_type": "code",
   "execution_count": 4,
   "metadata": {},
   "outputs": [
    {
     "name": "stdout",
     "output_type": "stream",
     "text": [
      "thread_EmE8y7kntVSsjsXxv8XSOc9l\n"
     ]
    }
   ],
   "source": [
    "#=== Thread (uncomment this to create your Thread) ===\n",
    "# thread = client.beta.threads.create(\n",
    "#     messages=[\n",
    "#         {\n",
    "#             \"role\": \"user\",\n",
    "#             \"content\": \"How do I get started working out to lose fat and build muscles?\",\n",
    "#         }\n",
    "#     ]\n",
    "# )\n",
    "# thread_id = thread.id\n",
    "# print(thread_id)\n"
   ]
  },
  {
   "cell_type": "markdown",
   "metadata": {},
   "source": [
    "##### Hardcode our ids"
   ]
  },
  {
   "cell_type": "code",
   "execution_count": 14,
   "metadata": {},
   "outputs": [],
   "source": [
    "# # === Hardcode our ids ===\n",
    "# assistant_id = \"asst_DLgCEdUFtrapcy1Ph5ZvaHyv\"\n",
    "# thread_id = \"thread_BShCPgdNwuyOdl2hQ7yr5kMB\"\n",
    "\n"
   ]
  },
  {
   "cell_type": "markdown",
   "metadata": {},
   "source": [
    "### Helper Function for completion from assistant with in a thread"
   ]
  },
  {
   "cell_type": "code",
   "execution_count": 9,
   "metadata": {},
   "outputs": [],
   "source": [
    "def wait_for_run_completion(client, thread_id, run_id, sleep_interval=5):\n",
    "    \"\"\"\n",
    "    Waits for a run to complete and prints the elapsed time.:param client: The OpenAI client object.\n",
    "    :param thread_id: The ID of the thread.\n",
    "    :param run_id: The ID of the run.\n",
    "    :param sleep_interval: Time in seconds to wait between checks.\n",
    "    \"\"\"\n",
    "    while True:\n",
    "        try:\n",
    "            run = client.beta.threads.runs.retrieve(thread_id=thread_id, run_id=run_id)\n",
    "            if run.completed_at:\n",
    "                elapsed_time = run.completed_at - run.created_at\n",
    "                formatted_elapsed_time = time.strftime(\n",
    "                    \"%H:%M:%S\", time.gmtime(elapsed_time)\n",
    "                )\n",
    "                print(f\"Run completed in {formatted_elapsed_time}\")\n",
    "                logging.info(f\"Run completed in {formatted_elapsed_time}\")\n",
    "                # Get messages here once Run is completed!\n",
    "                messages = client.beta.threads.messages.list(thread_id=thread_id)\n",
    "                last_message = messages.data[0]\n",
    "                response = last_message.content[0].text.value\n",
    "                print(f\"Assistant Response: {response}\")\n",
    "                break\n",
    "        except Exception as e:\n",
    "            logging.error(f\"An error occurred while retrieving the run: {e}\")\n",
    "            break\n",
    "        logging.info(\"Waiting for run to complete...\")\n",
    "        time.sleep(sleep_interval)"
   ]
  },
  {
   "cell_type": "markdown",
   "metadata": {},
   "source": [
    "#### Start to talk with bot here"
   ]
  },
  {
   "cell_type": "code",
   "execution_count": 17,
   "metadata": {},
   "outputs": [],
   "source": [
    "# ==== Create a Message ====\n",
    "message = \"What is your name?\"\n",
    "message = client.beta.threads.messages.create(\n",
    "    thread_id=thread_id, role=\"user\", content=message\n",
    ")"
   ]
  },
  {
   "cell_type": "code",
   "execution_count": 21,
   "metadata": {},
   "outputs": [
    {
     "name": "stdout",
     "output_type": "stream",
     "text": [
      "Run completed in 00:00:02\n",
      "Assistant Response: I am an AI language model and do not have a personal name. You can refer to me as the AI assistant or by the name of the platform you are using. How can I assist you today?\n"
     ]
    }
   ],
   "source": [
    "# === Run our Assistant ===\n",
    "run = client.beta.threads.runs.create(\n",
    "    thread_id=thread_id,\n",
    "    assistant_id=assistant_id,\n",
    "    instructions=\"Help me what I asked for\",\n",
    ")\n",
    "# === Run ===\n",
    "wait_for_run_completion(client=client, thread_id=thread_id, run_id=run.id)\n"
   ]
  },
  {
   "cell_type": "code",
   "execution_count": 22,
   "metadata": {},
   "outputs": [
    {
     "name": "stdout",
     "output_type": "stream",
     "text": [
      "Steps---> RunStep(id='step_CjB47FH5pmGWaagBRud3tNKr', assistant_id='asst_DLgCEdUFtrapcy1Ph5ZvaHyv', cancelled_at=None, completed_at=1714775834, created_at=1714775833, expired_at=None, failed_at=None, last_error=None, metadata=None, object='thread.run.step', run_id='run_c87URRUb8xvXYPWZhlY3GtqB', status='completed', step_details=MessageCreationStepDetails(message_creation=MessageCreation(message_id='msg_JRUbTwtpkAWSBRCOFVCJnq2J'), type='message_creation'), thread_id='thread_BShCPgdNwuyOdl2hQ7yr5kMB', type='message_creation', usage=Usage(completion_tokens=43, prompt_tokens=4114, total_tokens=4157), expires_at=None)\n"
     ]
    }
   ],
   "source": [
    "# ==== Steps --- Logs ==\n",
    "run_steps = client.beta.threads.runs.steps.list(thread_id=thread_id, run_id=run.id)\n",
    "print(f\"Steps---> {run_steps.data[0]}\")"
   ]
  },
  {
   "cell_type": "code",
   "execution_count": 24,
   "metadata": {},
   "outputs": [
    {
     "name": "stdout",
     "output_type": "stream",
     "text": [
      "Run completed in 00:00:02\n",
      "Assistant Response: Hello, AKE! How can I assist you today?\n"
     ]
    }
   ],
   "source": [
    "# ==== Create a Message ====\n",
    "message = \"I am your boss, My name is AKE\"\n",
    "message = client.beta.threads.messages.create(\n",
    "    thread_id=thread_id, role=\"user\", content=message\n",
    ")\n",
    "\n",
    "# === Run our Assistant ===\n",
    "run = client.beta.threads.runs.create(\n",
    "    thread_id=thread_id,\n",
    "    assistant_id=assistant_id,\n",
    ")\n",
    "wait_for_run_completion(client=client, thread_id=thread_id, run_id=run.id)"
   ]
  },
  {
   "cell_type": "code",
   "execution_count": 25,
   "metadata": {},
   "outputs": [
    {
     "name": "stdout",
     "output_type": "stream",
     "text": [
      "Run completed in 00:00:03\n",
      "Assistant Response: Of course, AKE! I'd be happy to help you with your workout routine. Please provide me with some details about your fitness goals, current exercise regimen, any specific areas you'd like to focus on, and any equipment you have access to. This information will help me tailor a workout plan that suits your needs and preferences. Let's work together to create a plan that will help you achieve your fitness goals.\n"
     ]
    }
   ],
   "source": [
    "# ==== Create a Message ====\n",
    "message = \"I need help with my workout routine\"\n",
    "message = client.beta.threads.messages.create(\n",
    "    thread_id=thread_id, role=\"user\", content=message\n",
    ")\n",
    "\n",
    "# === Run our Assistant ===\n",
    "run = client.beta.threads.runs.create(\n",
    "    thread_id=thread_id,\n",
    "    assistant_id=assistant_id,\n",
    ")\n",
    "wait_for_run_completion(client=client, thread_id=thread_id, run_id=run.id)"
   ]
  }
 ],
 "metadata": {
  "kernelspec": {
   "display_name": ".venv",
   "language": "python",
   "name": "python3"
  },
  "language_info": {
   "codemirror_mode": {
    "name": "ipython",
    "version": 3
   },
   "file_extension": ".py",
   "mimetype": "text/x-python",
   "name": "python",
   "nbconvert_exporter": "python",
   "pygments_lexer": "ipython3",
   "version": "3.11.8"
  }
 },
 "nbformat": 4,
 "nbformat_minor": 2
}
